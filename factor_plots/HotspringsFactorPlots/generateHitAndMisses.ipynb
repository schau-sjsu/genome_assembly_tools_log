{
 "cells": [
  {
   "cell_type": "markdown",
   "metadata": {},
   "source": [
    "# Hot Springs data hit and misses"
   ]
  },
  {
   "cell_type": "code",
   "execution_count": 31,
   "metadata": {},
   "outputs": [],
   "source": [
    "import altair as alt\n",
    "import pandas as pd"
   ]
  },
  {
   "cell_type": "code",
   "execution_count": 32,
   "metadata": {},
   "outputs": [],
   "source": [
    "from enum import Enum\n",
    "\n",
    "class Tools(Enum):\n",
    "    DELUCSHIT = \"DeLUCS hit\"\n",
    "    PHYLOFLASHHIT = \"phyloFlash hit\""
   ]
  },
  {
   "cell_type": "code",
   "execution_count": 33,
   "metadata": {},
   "outputs": [],
   "source": [
    "source = pd.read_csv(\"meet.csv\")\n",
    "\n",
    "df = pd.DataFrame(source)"
   ]
  },
  {
   "cell_type": "code",
   "execution_count": 34,
   "metadata": {},
   "outputs": [],
   "source": [
    "df[Tools.DELUCSHIT.value] = 0\n",
    "df[Tools.PHYLOFLASHHIT.value] = 0"
   ]
  },
  {
   "cell_type": "markdown",
   "metadata": {},
   "source": [
    "### DeLUCS miss [total 18](https://drive.google.com/file/d/1-4MlhMZzqph3XkQ9BwB14R_m-4IVc2iJ/view?usp=sharing)\n",
    "\n",
    "references: \n",
    "\n",
    "https://docs.google.com/document/d/1i5imBL57Gb-R55FgIuJMrLQxllJlgnRgXDbSpFJ3QOA/edit#heading=h.2lkqwkbbenv6\n",
    "\n",
    "[SJSU - Ebay slide # 30](https://docs.google.com/presentation/d/1_dlGqlGHNXgbPxo1PruNfi8C1a-fcNqzBPsIBoeHA9I/edit#slide=id.g119b523e386_0_35)"
   ]
  },
  {
   "cell_type": "markdown",
   "metadata": {},
   "source": [
    "### PhyloFlash miss total \n",
    "\n",
    "references:\n",
    "\n",
    "[SJSU - Ebay slide # 30](https://docs.google.com/presentation/d/1_dlGqlGHNXgbPxo1PruNfi8C1a-fcNqzBPsIBoeHA9I/edit#slide=id.g119b523e386_0_35)"
   ]
  },
  {
   "cell_type": "code",
   "execution_count": 35,
   "metadata": {},
   "outputs": [],
   "source": [
    "# both hit\n",
    "df.loc[df[\"Color\"] == \"thistle\", [Tools.DELUCSHIT.value, Tools.PHYLOFLASHHIT.value]] = 1\n",
    "# DeLUCs miss & phylo hit\n",
    "df.loc[df[\"Color\"] == \"lightsteelblue\", Tools.PHYLOFLASHHIT.value] = 1\n",
    "# DeLUCs hit & phylo miss\n",
    "df.loc[df[\"Color\"].str.contains(\"#ff\") , Tools.DELUCSHIT.value] = 1\n"
   ]
  },
  {
   "cell_type": "code",
   "execution_count": 36,
   "metadata": {},
   "outputs": [],
   "source": [
    "# df.to_csv(\"meetHitMiss.csv\")"
   ]
  }
 ],
 "metadata": {
  "kernelspec": {
   "display_name": "Python 3 (ipykernel)",
   "language": "python",
   "name": "python3"
  },
  "language_info": {
   "codemirror_mode": {
    "name": "ipython",
    "version": 3
   },
   "file_extension": ".py",
   "mimetype": "text/x-python",
   "name": "python",
   "nbconvert_exporter": "python",
   "pygments_lexer": "ipython3",
   "version": "3.10.5"
  },
  "vscode": {
   "interpreter": {
    "hash": "d5822147d25398cc109c1bdf54eb1ee7a6c0faef180858af0c55c5362b83b772"
   }
  }
 },
 "nbformat": 4,
 "nbformat_minor": 2
}
