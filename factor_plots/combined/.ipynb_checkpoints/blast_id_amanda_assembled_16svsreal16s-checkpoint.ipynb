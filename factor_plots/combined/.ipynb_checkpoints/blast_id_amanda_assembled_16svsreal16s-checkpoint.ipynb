{
 "cells": [
  {
   "cell_type": "code",
   "execution_count": 22,
   "metadata": {},
   "outputs": [],
   "source": [
    "import altair as alt\n",
    "import pandas as pd\n",
    "import glob"
   ]
  },
  {
   "cell_type": "code",
   "execution_count": 23,
   "metadata": {},
   "outputs": [],
   "source": [
    "def findHeaderIntPos(phyloFlashHeader, frontOffset=0) -> int:\n",
    "    recreateIntStack = []\n",
    "    middleIndexSortValue = \"\"\n",
    "    for char in phyloFlashHeader[frontOffset:]:\n",
    "        if char.isdigit():\n",
    "            recreateIntStack.append(char)\n",
    "        elif len(recreateIntStack) > 0:\n",
    "            break\n",
    "    while(len(recreateIntStack) > 0):\n",
    "        middleIndexSortValue += recreateIntStack.pop(0)\n",
    "    return int(middleIndexSortValue)"
   ]
  },
  {
   "cell_type": "code",
   "execution_count": 24,
   "metadata": {},
   "outputs": [],
   "source": [
    "# sort by phyloFlash header\n",
    "source = pd.read_csv(\"./results/amanda/blast/blast_id_heatmap_amanda_assembled_16s.vs.real16s.csv\")\n",
    "df = pd.DataFrame(source)"
   ]
  },
  {
   "cell_type": "code",
   "execution_count": 25,
   "metadata": {},
   "outputs": [],
   "source": [
    "# sort based on Query ID on the digits left of first _ ex. 10_\n",
    "# this will help keep the same order as the original heatmaps's y axis\n",
    "dfSorted = df.sort_values(by=\"Query ID\", key=lambda x: x.map(findHeaderIntPos))"
   ]
  },
  {
   "cell_type": "code",
   "execution_count": 26,
   "metadata": {},
   "outputs": [],
   "source": [
    "# Adjust specimen names per request\n",
    "adjustedNamesSortedDF = dfSorted.copy()\n",
    "\n",
    "# x-axis\n",
    "adjustedNamesSortedDF.loc[adjustedNamesSortedDF[\"Subject ID\"] == \"Pseudothermotoga hypogea DSM 11164 = NBRC 106472\", \"Subject ID\"] = \"Pseudothermotoga hypogea DSM 11164\"\n",
    "adjustedNamesSortedDF.loc[adjustedNamesSortedDF[\"Subject ID\"] == \"Candidatus Thermochlorobacteriaceae bacterium GBChlB\", \"Subject ID\"] = \"Candidatus Thermochlorobacteriaceae GBChlB\""
   ]
  },
  {
   "cell_type": "code",
   "execution_count": 27,
   "metadata": {},
   "outputs": [],
   "source": [
    "# The original heatmaps sometimes have a specific arraignment\n",
    "\n",
    "explicitNameOrder = [\n",
    "  \"Roseiflexus sp. RS-1\",#\n",
    "  \"Roseiflexus castenholzii DSM 13941\",#\n",
    "  \"Thermodesulfovibrio sp. N1\",#\n",
    "  \"Thermodesulfovibrio thiophilus DSM 17215\",#\n",
    "  \"Pseudothermotoga hypogea DSM 11164\",#\n",
    "  \"Thermocrinis ruber strain DSM 23557\",#\n",
    "  \"Synechococcus sp. JA-2-3B'a(2-13)\",#\n",
    "  \"Synechococcus sp. JA-3-3Ab\",#\n",
    "  \"Chloracidobacterium thermophilum B\",#\n",
    "  \"Pseudanabaena sp. PCC 7367\",#\n",
    "  \"Pseudanabaena sp. ABRG5-3\",#\n",
    "  \"Gloeomargarita lithophora Alchichica-D10\",#\n",
    "  \"Chloroflexus aggregans DSM 9485\",#\n",
    "  \"Chloroflexus islandicus strain isl-2\",#\n",
    "  \"Candidatus Thermochlorobacteriaceae GBChlB\",#\n",
    "  \"Meiothermus silvanus DSM 9946\",#\n",
    "  \"Pseudothermotoga lettingae TMO\",#\n",
    "  \"Caldimicrobium thiodismutans strain TF1\",#\n",
    "  \"Elioraea tepidiphila DSM 17972\",#\n",
    "  \"Thermus brockianus strain GE-1\",#\n",
    "  \"Thermus aquaticus Y51MC23\",#\n",
    "  \"Meiothermus ruber DSM 1279\",#\n",
    "  \"Meiothermus taiwanensis WR-220\",#\n",
    "  \"Chloroflexus aurantiacus Y-400-fl\",#\n",
    "  \"Chloroflexus aurantiacus J-10-fl\",#\n",
    "  \"Chloroflexus sp. Y-396-1\",#\n",
    "  \"Chloroflexus sp. MS-G\",#\n",
    "  \"Oscillochloris trichoides DG-6\",#\n",
    "  \"Ignavibacterium album JCM 16511\",#\n",
    "  \"Candidatus Solibacter usitatus Ellin6076\",#\n",
    "  # not in data set or original heatmap\n",
    "  # \"Candidatus Caldatribacterium saccharofermentans isolate SpSt-82\",\n",
    "]"
   ]
  },
  {
   "cell_type": "code",
   "execution_count": 28,
   "metadata": {},
   "outputs": [
    {
     "ename": "SchemaValidationError",
     "evalue": "Invalid specification\n\n        altair.vegalite.v4.schema.core.Scale, validating 'additionalProperties'\n\n        Additional properties are not allowed ('reverse' was unexpected)\n        ",
     "output_type": "error",
     "traceback": [
      "\u001b[0;31m---------------------------------------------------------------------------\u001b[0m",
      "\u001b[0;31mSchemaValidationError\u001b[0m                     Traceback (most recent call last)",
      "Input \u001b[0;32mIn [28]\u001b[0m, in \u001b[0;36m<cell line: 29>\u001b[0;34m()\u001b[0m\n\u001b[1;32m      1\u001b[0m base \u001b[38;5;241m=\u001b[39m alt\u001b[38;5;241m.\u001b[39mChart(\n\u001b[1;32m      2\u001b[0m     adjustedNamesSortedDF\u001b[38;5;241m.\u001b[39mcopy(),\n\u001b[1;32m      3\u001b[0m     \u001b[38;5;66;03m# title=\"BLAST ID Percentage\" removed per request\u001b[39;00m\n\u001b[0;32m   (...)\u001b[0m\n\u001b[1;32m     26\u001b[0m     height\u001b[38;5;241m=\u001b[39m\u001b[38;5;241m850\u001b[39m\n\u001b[1;32m     27\u001b[0m )\n\u001b[1;32m     29\u001b[0m heatmap \u001b[38;5;241m=\u001b[39m base\u001b[38;5;241m.\u001b[39mmark_rect()\u001b[38;5;241m.\u001b[39mencode(\n\u001b[1;32m     30\u001b[0m     color\u001b[38;5;241m=\u001b[39malt\u001b[38;5;241m.\u001b[39mColor(\n\u001b[1;32m     31\u001b[0m         \u001b[38;5;124m\"\u001b[39m\u001b[38;5;124mPercent identity:Q\u001b[39m\u001b[38;5;124m\"\u001b[39m,\n\u001b[0;32m---> 32\u001b[0m         scale\u001b[38;5;241m=\u001b[39m\u001b[43malt\u001b[49m\u001b[38;5;241;43m.\u001b[39;49m\u001b[43mScale\u001b[49m\u001b[43m(\u001b[49m\u001b[43mscheme\u001b[49m\u001b[38;5;241;43m=\u001b[39;49m\u001b[38;5;124;43m\"\u001b[39;49m\u001b[38;5;124;43mmagma\u001b[39;49m\u001b[38;5;124;43m\"\u001b[39;49m\u001b[43m,\u001b[49m\u001b[43m \u001b[49m\u001b[43mreverse\u001b[49m\u001b[38;5;241;43m=\u001b[39;49m\u001b[38;5;28;43;01mTrue\u001b[39;49;00m\u001b[43m)\u001b[49m,\n\u001b[1;32m     33\u001b[0m     )\n\u001b[1;32m     34\u001b[0m )\n\u001b[1;32m     36\u001b[0m text \u001b[38;5;241m=\u001b[39m base\u001b[38;5;241m.\u001b[39mmark_text(\n\u001b[1;32m     37\u001b[0m     baseline\u001b[38;5;241m=\u001b[39m\u001b[38;5;124m\"\u001b[39m\u001b[38;5;124mmiddle\u001b[39m\u001b[38;5;124m\"\u001b[39m,\n\u001b[1;32m     38\u001b[0m     fontSize\u001b[38;5;241m=\u001b[39m\u001b[38;5;241m14\u001b[39m\n\u001b[0;32m   (...)\u001b[0m\n\u001b[1;32m     50\u001b[0m         \u001b[38;5;66;03m# )\u001b[39;00m\n\u001b[1;32m     51\u001b[0m )\n\u001b[1;32m     53\u001b[0m heat_plot \u001b[38;5;241m=\u001b[39m heatmap \u001b[38;5;241m+\u001b[39m text\n",
      "File \u001b[0;32m~/opt/anaconda3/envs/upset-altair-env/lib/python3.10/site-packages/altair/vegalite/v4/schema/core.py:12713\u001b[0m, in \u001b[0;36mScale.__init__\u001b[0;34m(self, align, base, bins, clamp, constant, domain, exponent, interpolate, nice, padding, paddingInner, paddingOuter, range, round, scheme, type, zero, **kwds)\u001b[0m\n\u001b[1;32m  12708\u001b[0m \u001b[38;5;28;01mdef\u001b[39;00m \u001b[38;5;21m__init__\u001b[39m(\u001b[38;5;28mself\u001b[39m, align\u001b[38;5;241m=\u001b[39mUndefined, base\u001b[38;5;241m=\u001b[39mUndefined, bins\u001b[38;5;241m=\u001b[39mUndefined, clamp\u001b[38;5;241m=\u001b[39mUndefined,\n\u001b[1;32m  12709\u001b[0m              constant\u001b[38;5;241m=\u001b[39mUndefined, domain\u001b[38;5;241m=\u001b[39mUndefined, exponent\u001b[38;5;241m=\u001b[39mUndefined, interpolate\u001b[38;5;241m=\u001b[39mUndefined,\n\u001b[1;32m  12710\u001b[0m              nice\u001b[38;5;241m=\u001b[39mUndefined, padding\u001b[38;5;241m=\u001b[39mUndefined, paddingInner\u001b[38;5;241m=\u001b[39mUndefined, paddingOuter\u001b[38;5;241m=\u001b[39mUndefined,\n\u001b[1;32m  12711\u001b[0m              \u001b[38;5;28mrange\u001b[39m\u001b[38;5;241m=\u001b[39mUndefined, \u001b[38;5;28mround\u001b[39m\u001b[38;5;241m=\u001b[39mUndefined, scheme\u001b[38;5;241m=\u001b[39mUndefined, \u001b[38;5;28mtype\u001b[39m\u001b[38;5;241m=\u001b[39mUndefined, zero\u001b[38;5;241m=\u001b[39mUndefined,\n\u001b[1;32m  12712\u001b[0m              \u001b[38;5;241m*\u001b[39m\u001b[38;5;241m*\u001b[39mkwds):\n\u001b[0;32m> 12713\u001b[0m     \u001b[38;5;28;43msuper\u001b[39;49m\u001b[43m(\u001b[49m\u001b[43mScale\u001b[49m\u001b[43m,\u001b[49m\u001b[43m \u001b[49m\u001b[38;5;28;43mself\u001b[39;49m\u001b[43m)\u001b[49m\u001b[38;5;241;43m.\u001b[39;49m\u001b[38;5;21;43m__init__\u001b[39;49m\u001b[43m(\u001b[49m\u001b[43malign\u001b[49m\u001b[38;5;241;43m=\u001b[39;49m\u001b[43malign\u001b[49m\u001b[43m,\u001b[49m\u001b[43m \u001b[49m\u001b[43mbase\u001b[49m\u001b[38;5;241;43m=\u001b[39;49m\u001b[43mbase\u001b[49m\u001b[43m,\u001b[49m\u001b[43m \u001b[49m\u001b[43mbins\u001b[49m\u001b[38;5;241;43m=\u001b[39;49m\u001b[43mbins\u001b[49m\u001b[43m,\u001b[49m\u001b[43m \u001b[49m\u001b[43mclamp\u001b[49m\u001b[38;5;241;43m=\u001b[39;49m\u001b[43mclamp\u001b[49m\u001b[43m,\u001b[49m\u001b[43m \u001b[49m\u001b[43mconstant\u001b[49m\u001b[38;5;241;43m=\u001b[39;49m\u001b[43mconstant\u001b[49m\u001b[43m,\u001b[49m\n\u001b[1;32m  12714\u001b[0m \u001b[43m                                \u001b[49m\u001b[43mdomain\u001b[49m\u001b[38;5;241;43m=\u001b[39;49m\u001b[43mdomain\u001b[49m\u001b[43m,\u001b[49m\u001b[43m \u001b[49m\u001b[43mexponent\u001b[49m\u001b[38;5;241;43m=\u001b[39;49m\u001b[43mexponent\u001b[49m\u001b[43m,\u001b[49m\u001b[43m \u001b[49m\u001b[43minterpolate\u001b[49m\u001b[38;5;241;43m=\u001b[39;49m\u001b[43minterpolate\u001b[49m\u001b[43m,\u001b[49m\n\u001b[1;32m  12715\u001b[0m \u001b[43m                                \u001b[49m\u001b[43mnice\u001b[49m\u001b[38;5;241;43m=\u001b[39;49m\u001b[43mnice\u001b[49m\u001b[43m,\u001b[49m\u001b[43m \u001b[49m\u001b[43mpadding\u001b[49m\u001b[38;5;241;43m=\u001b[39;49m\u001b[43mpadding\u001b[49m\u001b[43m,\u001b[49m\u001b[43m \u001b[49m\u001b[43mpaddingInner\u001b[49m\u001b[38;5;241;43m=\u001b[39;49m\u001b[43mpaddingInner\u001b[49m\u001b[43m,\u001b[49m\n\u001b[1;32m  12716\u001b[0m \u001b[43m                                \u001b[49m\u001b[43mpaddingOuter\u001b[49m\u001b[38;5;241;43m=\u001b[39;49m\u001b[43mpaddingOuter\u001b[49m\u001b[43m,\u001b[49m\u001b[43m \u001b[49m\u001b[38;5;28;43mrange\u001b[39;49m\u001b[38;5;241;43m=\u001b[39;49m\u001b[38;5;28;43mrange\u001b[39;49m\u001b[43m,\u001b[49m\u001b[43m \u001b[49m\u001b[38;5;28;43mround\u001b[39;49m\u001b[38;5;241;43m=\u001b[39;49m\u001b[38;5;28;43mround\u001b[39;49m\u001b[43m,\u001b[49m\u001b[43m \u001b[49m\u001b[43mscheme\u001b[49m\u001b[38;5;241;43m=\u001b[39;49m\u001b[43mscheme\u001b[49m\u001b[43m,\u001b[49m\n\u001b[1;32m  12717\u001b[0m \u001b[43m                                \u001b[49m\u001b[38;5;28;43mtype\u001b[39;49m\u001b[38;5;241;43m=\u001b[39;49m\u001b[38;5;28;43mtype\u001b[39;49m\u001b[43m,\u001b[49m\u001b[43m \u001b[49m\u001b[43mzero\u001b[49m\u001b[38;5;241;43m=\u001b[39;49m\u001b[43mzero\u001b[49m\u001b[43m,\u001b[49m\u001b[43m \u001b[49m\u001b[38;5;241;43m*\u001b[39;49m\u001b[38;5;241;43m*\u001b[39;49m\u001b[43mkwds\u001b[49m\u001b[43m)\u001b[49m\n",
      "File \u001b[0;32m~/opt/anaconda3/envs/upset-altair-env/lib/python3.10/site-packages/altair/utils/schemapi.py:157\u001b[0m, in \u001b[0;36mSchemaBase.__init__\u001b[0;34m(self, *args, **kwds)\u001b[0m\n\u001b[1;32m    154\u001b[0m \u001b[38;5;28mobject\u001b[39m\u001b[38;5;241m.\u001b[39m\u001b[38;5;21m__setattr__\u001b[39m(\u001b[38;5;28mself\u001b[39m, \u001b[38;5;124m'\u001b[39m\u001b[38;5;124m_kwds\u001b[39m\u001b[38;5;124m'\u001b[39m, kwds)\n\u001b[1;32m    156\u001b[0m \u001b[38;5;28;01mif\u001b[39;00m DEBUG_MODE \u001b[38;5;129;01mand\u001b[39;00m \u001b[38;5;28mself\u001b[39m\u001b[38;5;241m.\u001b[39m_class_is_valid_at_instantiation:\n\u001b[0;32m--> 157\u001b[0m     \u001b[38;5;28;43mself\u001b[39;49m\u001b[38;5;241;43m.\u001b[39;49m\u001b[43mto_dict\u001b[49m\u001b[43m(\u001b[49m\u001b[43mvalidate\u001b[49m\u001b[38;5;241;43m=\u001b[39;49m\u001b[38;5;28;43;01mTrue\u001b[39;49;00m\u001b[43m)\u001b[49m\n",
      "File \u001b[0;32m~/opt/anaconda3/envs/upset-altair-env/lib/python3.10/site-packages/altair/utils/schemapi.py:307\u001b[0m, in \u001b[0;36mSchemaBase.to_dict\u001b[0;34m(self, validate, ignore, context)\u001b[0m\n\u001b[1;32m    305\u001b[0m         \u001b[38;5;28mself\u001b[39m\u001b[38;5;241m.\u001b[39mvalidate(result)\n\u001b[1;32m    306\u001b[0m     \u001b[38;5;28;01mexcept\u001b[39;00m jsonschema\u001b[38;5;241m.\u001b[39mValidationError \u001b[38;5;28;01mas\u001b[39;00m err:\n\u001b[0;32m--> 307\u001b[0m         \u001b[38;5;28;01mraise\u001b[39;00m SchemaValidationError(\u001b[38;5;28mself\u001b[39m, err)\n\u001b[1;32m    308\u001b[0m \u001b[38;5;28;01mreturn\u001b[39;00m result\n",
      "\u001b[0;31mSchemaValidationError\u001b[0m: Invalid specification\n\n        altair.vegalite.v4.schema.core.Scale, validating 'additionalProperties'\n\n        Additional properties are not allowed ('reverse' was unexpected)\n        "
     ]
    }
   ],
   "source": [
    "base = alt.Chart(\n",
    "    adjustedNamesSortedDF.copy(),\n",
    "    # title=\"BLAST ID Percentage\" removed per request\n",
    "    ).encode(\n",
    "    x=alt.X(\n",
    "        \"Subject ID:O\",\n",
    "        scale=alt.Scale(paddingInner=0),\n",
    "        sort=explicitNameOrder,\n",
    "        axis=alt.Axis(\n",
    "            labelAngle=-45,\n",
    "            labelLimit=10000,\n",
    "            titleY=200\n",
    "        )\n",
    "    ),\n",
    "    y=alt.Y(\n",
    "        \"Query ID:O\",\n",
    "        scale=alt.Scale(paddingInner=0),\n",
    "        sort=\"x\",\n",
    "        title=\"Query ID\",\n",
    "        axis=alt.Axis(\n",
    "            labelLimit=10000,\n",
    "        )\n",
    "    )\n",
    ").properties(\n",
    "    width= 1050,\n",
    "    height=850\n",
    ")\n",
    "\n",
    "heatmap = base.mark_rect().encode(\n",
    "    color=alt.Color(\n",
    "        \"Percent identity:Q\",\n",
    "        scale=alt.Scale(scheme=\"magma\", reverse=True),\n",
    "    )\n",
    ")\n",
    "\n",
    "text = base.mark_text(\n",
    "    baseline=\"middle\",\n",
    "    fontSize=14\n",
    "    ).encode(\n",
    "        text=\"Percent identity:Q\",\n",
    "        color=alt.condition(\n",
    "            alt.datum[\"Percent identity\"] > 90,\n",
    "            alt.value(\"lightgrey\"),\n",
    "            alt.value(\"black\"),\n",
    "        )\n",
    "        # color=alt.condition(\n",
    "        #     alt.datum.Percent < 20,\n",
    "        #     alt.value(\"lightgrey\"),\n",
    "        #     alt.value(\"black\"),\n",
    "        # )\n",
    ")\n",
    "\n",
    "heat_plot = heatmap + text\n",
    "\n",
    "heat_plot.configure_axis(\n",
    "    titleFontSize = 23,\n",
    "    labelFontSize = 13\n",
    ").configure_title(\n",
    "    fontSize=30\n",
    ")"
   ]
  },
  {
   "cell_type": "code",
   "execution_count": null,
   "metadata": {},
   "outputs": [],
   "source": []
  },
  {
   "cell_type": "code",
   "execution_count": null,
   "metadata": {},
   "outputs": [],
   "source": []
  }
 ],
 "metadata": {
  "kernelspec": {
   "display_name": "Python 3 (ipykernel)",
   "language": "python",
   "name": "python3"
  },
  "language_info": {
   "codemirror_mode": {
    "name": "ipython",
    "version": 3
   },
   "file_extension": ".py",
   "mimetype": "text/x-python",
   "name": "python",
   "nbconvert_exporter": "python",
   "pygments_lexer": "ipython3",
   "version": "3.10.5"
  },
  "vscode": {
   "interpreter": {
    "hash": "d5822147d25398cc109c1bdf54eb1ee7a6c0faef180858af0c55c5362b83b772"
   }
  }
 },
 "nbformat": 4,
 "nbformat_minor": 2
}
