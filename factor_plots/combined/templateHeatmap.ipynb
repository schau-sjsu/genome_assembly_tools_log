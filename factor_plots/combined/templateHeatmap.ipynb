{
 "cells": [
  {
   "cell_type": "code",
   "execution_count": 1,
   "metadata": {},
   "outputs": [],
   "source": [
    "import altair as alt\n",
    "import pandas as pd\n",
    "import glob"
   ]
  },
  {
   "cell_type": "code",
   "execution_count": 2,
   "metadata": {},
   "outputs": [],
   "source": [
    "def findHeaderIntPos(phyloFlashHeader: pd.DataFrame, frontOffset=12) -> int:\n",
    "    # full que implementation might be faster with larger integer that has more digits\n",
    "    recreateIntStack = []\n",
    "    middleIndexSortValue = \"\"\n",
    "    for char in phyloFlashHeader.loc[0,\"PhyloFlash header\"][frontOffset:]:\n",
    "        if char.isdigit():\n",
    "            recreateIntStack.append(char)\n",
    "        elif len(recreateIntStack) > 0:\n",
    "            break\n",
    "    while(len(recreateIntStack) > 0):\n",
    "        middleIndexSortValue += recreateIntStack.pop(0)\n",
    "    return int(middleIndexSortValue)"
   ]
  },
  {
   "cell_type": "code",
   "execution_count": 3,
   "metadata": {},
   "outputs": [],
   "source": [
    "# calculate percentages\n",
    "\n",
    "files = glob.glob(\"./results/mbarc26/hd/*.csv\")\n",
    "df = []\n",
    "for f in files:\n",
    "    csv = pd.read_csv(f)\n",
    "    csv[\"Percent\"] = round(100*csv[\"HD for closest hit\"] / csv[[\"Target sequence length\", \"Reference sequence length\"]].min(axis=1), 1)\n",
    "    csv.sort_values(\"Percent\", inplace=True)\n",
    "    df.append(csv)\n"
   ]
  },
  {
   "cell_type": "code",
   "execution_count": 4,
   "metadata": {},
   "outputs": [],
   "source": [
    "# sort by phyloFlash header\n",
    "sortedDF = sorted(df, key=findHeaderIntPos)\n",
    "df = pd.concat(sortedDF, ignore_index=True, sort=False)"
   ]
  },
  {
   "cell_type": "code",
   "execution_count": 5,
   "metadata": {},
   "outputs": [],
   "source": [
    "# trim full species names to match original heatmap names\n",
    "dfTrimmedNames = df.copy()\n",
    "\n",
    "dfTrimmedNames[\"Closest hit to reference 16S\"] = dfTrimmedNames[\"Closest hit to reference 16S\"].str.extract(\"([a-zA-Z\\.]+\\s[a-zA-Z]+)\")\n",
    "\n",
    "# manually adjust names that do not match substring extraction\n",
    "dfTrimmedNames.loc[dfTrimmedNames[\"Closest hit to reference 16S\"] == \"E.coli K\", \"Closest hit to reference 16S\"] = \"E.coli\"\n",
    "dfTrimmedNames.loc[dfTrimmedNames[\"Closest hit to reference 16S\"] == \"Clostridium perfringensATCC\", \"Closest hit to reference 16S\"] = \"Clostridium perfringens\"\n",
    "dfTrimmedNames.loc[dfTrimmedNames[\"Closest hit to reference 16S\"] == \"Clostridium thermocellumVPI\", \"Closest hit to reference 16S\"] = \"Clostridium thermocellum\""
   ]
  },
  {
   "cell_type": "code",
   "execution_count": 6,
   "metadata": {},
   "outputs": [],
   "source": [
    "# The original heatmaps sometimes have a specific arraignment\n",
    "\n",
    "# explicitFullNameOrder = [\n",
    "#     \"Streptococcus pyogenes M1 GAS\",#\n",
    "#     \"Hirschia baltica ATCC 49814\",#\n",
    "#     \"Frateuria aurantia DSM 6220\",#\n",
    "#     \"Thermobacillus composti KWC4\",#\n",
    "#     \"Coraliomargarita akajimensis DSM 45221\",#\n",
    "#     \"Pseudomonas stutzeri RCH2\",#\n",
    "#     \"Natronobacterium gregoryi SP2\",#\n",
    "#     \"Spirochaeta smaragdinae DSM 11293\",#\n",
    "#     \"Clostridium perfringensATCC 13124\",#\n",
    "#     \"Salmonella enterica subsp. arizonae serovar 62 z4 z23 - strain RSK2980\",#\n",
    "#     \"Segniliparus rotundus DSM 44985\",#\n",
    "#     \"Olsenella uli DSM 7084\",#\n",
    "#     \"Natronococcus occultus DSM 3396\",#\n",
    "#     \"Terriglobus roseus DSM 18391\",#\n",
    "#     \"Halovivax ruber XH-70\",#\n",
    "#     \"Corynebacterium glutamicum ATCC 13032\",#\n",
    "#     \"Desulfosporosinus acidiphilus SJ4 DSM 22704\",#\n",
    "#     \"Clostridium thermocellumVPI 7372 ATCC 27405\",#\n",
    "#     \"Echinicola vietnamensis DSM 17526\",#\n",
    "#     \"Meiothermus silvanus DSM 9946\",#\n",
    "#     \"Desulfosporosinus meridiei DSM 13257\",#\n",
    "#     \"Desulfotomaculum gibsoniae DSM 7213\",#\n",
    "#     \"E.coli K12 ATCC 700926\",#\n",
    "#     \"Salmonella bongori NCTC 12419\",#\n",
    "#     \"Fervidobacterium pennivorans DSM 9078\",#\n",
    "#     \"Nocardiopsis dassonvillei DSM 43111\",\n",
    "# ]\n",
    "explicitNameOrder = [\n",
    "    \"Streptococcus pyogenes\",\n",
    "    \"Hirschia baltica\",\n",
    "    \"Frateuria aurantia\",\n",
    "    \"Thermobacillus composti\",\n",
    "    \"Coraliomargarita akajimensis\",\n",
    "    \"Pseudomonas stutzeri\",\n",
    "    \"Natronobacterium gregoryi\",\n",
    "    \"Spirochaeta smaragdinae\",\n",
    "    \"Clostridium perfringens\",\n",
    "    \"Salmonella enterica\",\n",
    "    \"Segniliparus rotundus\",\n",
    "    \"Olsenella uli\",\n",
    "    \"Natronococcus occultus\",\n",
    "    \"Terriglobus roseus\",\n",
    "    \"Halovivax ruber\",\n",
    "    \"Corynebacterium glutamicum\",\n",
    "    \"Desulfosporosinus acidiphilus\",\n",
    "    \"Clostridium thermocellum\",\n",
    "    \"Echinicola vietnamensis\",\n",
    "    \"Meiothermus silvanus\",\n",
    "    \"Desulfosporosinus meridiei\",\n",
    "    \"Desulfotomaculum gibsoniae\",\n",
    "    \"E.coli\",\n",
    "    \"Salmonella bongori\",\n",
    "    \"Fervidobacterium pennivorans\",\n",
    "    \"Nocardiopsis dassonvillei\",\n",
    "]"
   ]
  },
  {
   "cell_type": "code",
   "execution_count": 10,
   "metadata": {},
   "outputs": [
    {
     "ename": "SchemaValidationError",
     "evalue": "Invalid specification\n\n        altair.vegalite.v4.schema.core.Scale, validating 'additionalProperties'\n\n        Additional properties are not allowed ('reverse' was unexpected)\n        ",
     "output_type": "error",
     "traceback": [
      "\u001b[0;31m---------------------------------------------------------------------------\u001b[0m",
      "\u001b[0;31mSchemaValidationError\u001b[0m                     Traceback (most recent call last)",
      "Input \u001b[0;32mIn [10]\u001b[0m, in \u001b[0;36m<cell line: 22>\u001b[0;34m()\u001b[0m\n\u001b[1;32m      1\u001b[0m base \u001b[38;5;241m=\u001b[39m alt\u001b[38;5;241m.\u001b[39mChart(\n\u001b[1;32m      2\u001b[0m     dfTrimmedNames\u001b[38;5;241m.\u001b[39mcopy(),\n\u001b[1;32m      3\u001b[0m     \u001b[38;5;66;03m# title=\"Hamming Distances of assembled 16Ss to the true 16Ss for mock MBARC-26\"\u001b[39;00m\n\u001b[0;32m   (...)\u001b[0m\n\u001b[1;32m     19\u001b[0m     height\u001b[38;5;241m=\u001b[39m\u001b[38;5;241m850\u001b[39m\n\u001b[1;32m     20\u001b[0m )\n\u001b[1;32m     22\u001b[0m heatmap \u001b[38;5;241m=\u001b[39m base\u001b[38;5;241m.\u001b[39mmark_rect()\u001b[38;5;241m.\u001b[39mencode(\n\u001b[1;32m     23\u001b[0m     color\u001b[38;5;241m=\u001b[39malt\u001b[38;5;241m.\u001b[39mColor(\n\u001b[1;32m     24\u001b[0m         \u001b[38;5;124m\"\u001b[39m\u001b[38;5;124mPercent:Q\u001b[39m\u001b[38;5;124m\"\u001b[39m,\n\u001b[0;32m---> 25\u001b[0m         scale\u001b[38;5;241m=\u001b[39m\u001b[43malt\u001b[49m\u001b[38;5;241;43m.\u001b[39;49m\u001b[43mScale\u001b[49m\u001b[43m(\u001b[49m\u001b[43mscheme\u001b[49m\u001b[38;5;241;43m=\u001b[39;49m\u001b[38;5;124;43m\"\u001b[39;49m\u001b[38;5;124;43mmagma\u001b[39;49m\u001b[38;5;124;43m\"\u001b[39;49m\u001b[43m,\u001b[49m\u001b[43m \u001b[49m\u001b[43mreverse\u001b[49m\u001b[38;5;241;43m=\u001b[39;49m\u001b[38;5;28;43;01mTrue\u001b[39;49;00m\u001b[43m)\u001b[49m,\n\u001b[1;32m     26\u001b[0m     )\n\u001b[1;32m     27\u001b[0m )\n\u001b[1;32m     29\u001b[0m text \u001b[38;5;241m=\u001b[39m base\u001b[38;5;241m.\u001b[39mmark_text(\n\u001b[1;32m     30\u001b[0m     baseline\u001b[38;5;241m=\u001b[39m\u001b[38;5;124m\"\u001b[39m\u001b[38;5;124mmiddle\u001b[39m\u001b[38;5;124m\"\u001b[39m,\n\u001b[1;32m     31\u001b[0m     fontSize\u001b[38;5;241m=\u001b[39m\u001b[38;5;241m14\u001b[39m\n\u001b[0;32m   (...)\u001b[0m\n\u001b[1;32m     38\u001b[0m         )\n\u001b[1;32m     39\u001b[0m )\n\u001b[1;32m     41\u001b[0m heat_plot \u001b[38;5;241m=\u001b[39m heatmap \u001b[38;5;241m+\u001b[39m text\n",
      "File \u001b[0;32m~/opt/anaconda3/envs/upset-altair-env/lib/python3.10/site-packages/altair/vegalite/v4/schema/core.py:12713\u001b[0m, in \u001b[0;36mScale.__init__\u001b[0;34m(self, align, base, bins, clamp, constant, domain, exponent, interpolate, nice, padding, paddingInner, paddingOuter, range, round, scheme, type, zero, **kwds)\u001b[0m\n\u001b[1;32m  12708\u001b[0m \u001b[38;5;28;01mdef\u001b[39;00m \u001b[38;5;21m__init__\u001b[39m(\u001b[38;5;28mself\u001b[39m, align\u001b[38;5;241m=\u001b[39mUndefined, base\u001b[38;5;241m=\u001b[39mUndefined, bins\u001b[38;5;241m=\u001b[39mUndefined, clamp\u001b[38;5;241m=\u001b[39mUndefined,\n\u001b[1;32m  12709\u001b[0m              constant\u001b[38;5;241m=\u001b[39mUndefined, domain\u001b[38;5;241m=\u001b[39mUndefined, exponent\u001b[38;5;241m=\u001b[39mUndefined, interpolate\u001b[38;5;241m=\u001b[39mUndefined,\n\u001b[1;32m  12710\u001b[0m              nice\u001b[38;5;241m=\u001b[39mUndefined, padding\u001b[38;5;241m=\u001b[39mUndefined, paddingInner\u001b[38;5;241m=\u001b[39mUndefined, paddingOuter\u001b[38;5;241m=\u001b[39mUndefined,\n\u001b[1;32m  12711\u001b[0m              \u001b[38;5;28mrange\u001b[39m\u001b[38;5;241m=\u001b[39mUndefined, \u001b[38;5;28mround\u001b[39m\u001b[38;5;241m=\u001b[39mUndefined, scheme\u001b[38;5;241m=\u001b[39mUndefined, \u001b[38;5;28mtype\u001b[39m\u001b[38;5;241m=\u001b[39mUndefined, zero\u001b[38;5;241m=\u001b[39mUndefined,\n\u001b[1;32m  12712\u001b[0m              \u001b[38;5;241m*\u001b[39m\u001b[38;5;241m*\u001b[39mkwds):\n\u001b[0;32m> 12713\u001b[0m     \u001b[38;5;28;43msuper\u001b[39;49m\u001b[43m(\u001b[49m\u001b[43mScale\u001b[49m\u001b[43m,\u001b[49m\u001b[43m \u001b[49m\u001b[38;5;28;43mself\u001b[39;49m\u001b[43m)\u001b[49m\u001b[38;5;241;43m.\u001b[39;49m\u001b[38;5;21;43m__init__\u001b[39;49m\u001b[43m(\u001b[49m\u001b[43malign\u001b[49m\u001b[38;5;241;43m=\u001b[39;49m\u001b[43malign\u001b[49m\u001b[43m,\u001b[49m\u001b[43m \u001b[49m\u001b[43mbase\u001b[49m\u001b[38;5;241;43m=\u001b[39;49m\u001b[43mbase\u001b[49m\u001b[43m,\u001b[49m\u001b[43m \u001b[49m\u001b[43mbins\u001b[49m\u001b[38;5;241;43m=\u001b[39;49m\u001b[43mbins\u001b[49m\u001b[43m,\u001b[49m\u001b[43m \u001b[49m\u001b[43mclamp\u001b[49m\u001b[38;5;241;43m=\u001b[39;49m\u001b[43mclamp\u001b[49m\u001b[43m,\u001b[49m\u001b[43m \u001b[49m\u001b[43mconstant\u001b[49m\u001b[38;5;241;43m=\u001b[39;49m\u001b[43mconstant\u001b[49m\u001b[43m,\u001b[49m\n\u001b[1;32m  12714\u001b[0m \u001b[43m                                \u001b[49m\u001b[43mdomain\u001b[49m\u001b[38;5;241;43m=\u001b[39;49m\u001b[43mdomain\u001b[49m\u001b[43m,\u001b[49m\u001b[43m \u001b[49m\u001b[43mexponent\u001b[49m\u001b[38;5;241;43m=\u001b[39;49m\u001b[43mexponent\u001b[49m\u001b[43m,\u001b[49m\u001b[43m \u001b[49m\u001b[43minterpolate\u001b[49m\u001b[38;5;241;43m=\u001b[39;49m\u001b[43minterpolate\u001b[49m\u001b[43m,\u001b[49m\n\u001b[1;32m  12715\u001b[0m \u001b[43m                                \u001b[49m\u001b[43mnice\u001b[49m\u001b[38;5;241;43m=\u001b[39;49m\u001b[43mnice\u001b[49m\u001b[43m,\u001b[49m\u001b[43m \u001b[49m\u001b[43mpadding\u001b[49m\u001b[38;5;241;43m=\u001b[39;49m\u001b[43mpadding\u001b[49m\u001b[43m,\u001b[49m\u001b[43m \u001b[49m\u001b[43mpaddingInner\u001b[49m\u001b[38;5;241;43m=\u001b[39;49m\u001b[43mpaddingInner\u001b[49m\u001b[43m,\u001b[49m\n\u001b[1;32m  12716\u001b[0m \u001b[43m                                \u001b[49m\u001b[43mpaddingOuter\u001b[49m\u001b[38;5;241;43m=\u001b[39;49m\u001b[43mpaddingOuter\u001b[49m\u001b[43m,\u001b[49m\u001b[43m \u001b[49m\u001b[38;5;28;43mrange\u001b[39;49m\u001b[38;5;241;43m=\u001b[39;49m\u001b[38;5;28;43mrange\u001b[39;49m\u001b[43m,\u001b[49m\u001b[43m \u001b[49m\u001b[38;5;28;43mround\u001b[39;49m\u001b[38;5;241;43m=\u001b[39;49m\u001b[38;5;28;43mround\u001b[39;49m\u001b[43m,\u001b[49m\u001b[43m \u001b[49m\u001b[43mscheme\u001b[49m\u001b[38;5;241;43m=\u001b[39;49m\u001b[43mscheme\u001b[49m\u001b[43m,\u001b[49m\n\u001b[1;32m  12717\u001b[0m \u001b[43m                                \u001b[49m\u001b[38;5;28;43mtype\u001b[39;49m\u001b[38;5;241;43m=\u001b[39;49m\u001b[38;5;28;43mtype\u001b[39;49m\u001b[43m,\u001b[49m\u001b[43m \u001b[49m\u001b[43mzero\u001b[49m\u001b[38;5;241;43m=\u001b[39;49m\u001b[43mzero\u001b[49m\u001b[43m,\u001b[49m\u001b[43m \u001b[49m\u001b[38;5;241;43m*\u001b[39;49m\u001b[38;5;241;43m*\u001b[39;49m\u001b[43mkwds\u001b[49m\u001b[43m)\u001b[49m\n",
      "File \u001b[0;32m~/opt/anaconda3/envs/upset-altair-env/lib/python3.10/site-packages/altair/utils/schemapi.py:157\u001b[0m, in \u001b[0;36mSchemaBase.__init__\u001b[0;34m(self, *args, **kwds)\u001b[0m\n\u001b[1;32m    154\u001b[0m \u001b[38;5;28mobject\u001b[39m\u001b[38;5;241m.\u001b[39m\u001b[38;5;21m__setattr__\u001b[39m(\u001b[38;5;28mself\u001b[39m, \u001b[38;5;124m'\u001b[39m\u001b[38;5;124m_kwds\u001b[39m\u001b[38;5;124m'\u001b[39m, kwds)\n\u001b[1;32m    156\u001b[0m \u001b[38;5;28;01mif\u001b[39;00m DEBUG_MODE \u001b[38;5;129;01mand\u001b[39;00m \u001b[38;5;28mself\u001b[39m\u001b[38;5;241m.\u001b[39m_class_is_valid_at_instantiation:\n\u001b[0;32m--> 157\u001b[0m     \u001b[38;5;28;43mself\u001b[39;49m\u001b[38;5;241;43m.\u001b[39;49m\u001b[43mto_dict\u001b[49m\u001b[43m(\u001b[49m\u001b[43mvalidate\u001b[49m\u001b[38;5;241;43m=\u001b[39;49m\u001b[38;5;28;43;01mTrue\u001b[39;49;00m\u001b[43m)\u001b[49m\n",
      "File \u001b[0;32m~/opt/anaconda3/envs/upset-altair-env/lib/python3.10/site-packages/altair/utils/schemapi.py:307\u001b[0m, in \u001b[0;36mSchemaBase.to_dict\u001b[0;34m(self, validate, ignore, context)\u001b[0m\n\u001b[1;32m    305\u001b[0m         \u001b[38;5;28mself\u001b[39m\u001b[38;5;241m.\u001b[39mvalidate(result)\n\u001b[1;32m    306\u001b[0m     \u001b[38;5;28;01mexcept\u001b[39;00m jsonschema\u001b[38;5;241m.\u001b[39mValidationError \u001b[38;5;28;01mas\u001b[39;00m err:\n\u001b[0;32m--> 307\u001b[0m         \u001b[38;5;28;01mraise\u001b[39;00m SchemaValidationError(\u001b[38;5;28mself\u001b[39m, err)\n\u001b[1;32m    308\u001b[0m \u001b[38;5;28;01mreturn\u001b[39;00m result\n",
      "\u001b[0;31mSchemaValidationError\u001b[0m: Invalid specification\n\n        altair.vegalite.v4.schema.core.Scale, validating 'additionalProperties'\n\n        Additional properties are not allowed ('reverse' was unexpected)\n        "
     ]
    }
   ],
   "source": [
    "base = alt.Chart(\n",
    "    dfTrimmedNames.copy(),\n",
    "    # title=\"Hamming Distances of assembled 16Ss to the true 16Ss for mock MBARC-26\"\n",
    "    ).encode(\n",
    "    x=alt.X(\n",
    "        \"Closest hit to reference 16S:O\",\n",
    "        scale=alt.Scale(paddingInner=0),\n",
    "        sort=explicitNameOrder,\n",
    "        axis=alt.Axis()\n",
    "    ),\n",
    "    y=alt.Y(\n",
    "        \"PhyloFlash header:O\",\n",
    "        scale=alt.Scale(paddingInner=0),\n",
    "        sort=\"x\",\n",
    "        title=\"Assembly\"\n",
    "    )\n",
    ").properties(\n",
    "    width= 1050,\n",
    "    height=850\n",
    ")\n",
    "\n",
    "heatmap = base.mark_rect().encode(\n",
    "    color=alt.Color(\n",
    "        \"Percent:Q\",\n",
    "        scale=alt.Scale(scheme=\"magma\", reverse=True),\n",
    "    )\n",
    ")\n",
    "\n",
    "text = base.mark_text(\n",
    "    baseline=\"middle\",\n",
    "    fontSize=14\n",
    "    ).encode(\n",
    "        text=\"Percent:Q\",\n",
    "        color=alt.condition(\n",
    "            alt.datum.Percent < 20,\n",
    "            alt.value(\"lightgrey\"),\n",
    "            alt.value(\"black\"),\n",
    "        )\n",
    ")\n",
    "\n",
    "heat_plot = heatmap + text\n",
    "\n",
    "heat_plot.configure_axis(\n",
    "    titleFontSize = 23,\n",
    "    labelFontSize = 13\n",
    ").configure_title(\n",
    "    fontSize=30\n",
    ")\n"
   ]
  },
  {
   "cell_type": "code",
   "execution_count": null,
   "metadata": {},
   "outputs": [],
   "source": []
  }
 ],
 "metadata": {
  "kernelspec": {
   "display_name": "Python 3 (ipykernel)",
   "language": "python",
   "name": "python3"
  },
  "language_info": {
   "codemirror_mode": {
    "name": "ipython",
    "version": 3
   },
   "file_extension": ".py",
   "mimetype": "text/x-python",
   "name": "python",
   "nbconvert_exporter": "python",
   "pygments_lexer": "ipython3",
   "version": "3.10.5"
  },
  "vscode": {
   "interpreter": {
    "hash": "d5822147d25398cc109c1bdf54eb1ee7a6c0faef180858af0c55c5362b83b772"
   }
  }
 },
 "nbformat": 4,
 "nbformat_minor": 2
}
